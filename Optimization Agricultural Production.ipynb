{
 "cells": [
  {
   "cell_type": "code",
   "execution_count": 1,
   "id": "e29d1a1e",
   "metadata": {},
   "outputs": [],
   "source": [
    "# for mainpulation\n",
    "import numpy as np\n",
    "import pandas as pd\n",
    "\n",
    "# for data visulalization\n",
    "import matplotlib.pyplot as plt\n",
    "import seaborn as sns\n",
    "\n",
    "# for interact\n",
    "from ipywidgets import interact "
   ]
  },
  {
   "cell_type": "code",
   "execution_count": 2,
   "id": "226c9ff8",
   "metadata": {},
   "outputs": [],
   "source": [
    "# read the data\n",
    "data = pd.read_csv('F:\\\\ITC MARATHA BILL DETAILS\\\\data for agricultural product opt sys.csv')"
   ]
  },
  {
   "cell_type": "code",
   "execution_count": 3,
   "id": "44dd78f2",
   "metadata": {},
   "outputs": [
    {
     "name": "stdout",
     "output_type": "stream",
     "text": [
      "the shape of data is  (2200, 8)\n"
     ]
    }
   ],
   "source": [
    "# check the shape of data\n",
    "print(\"the shape of data is \",data.shape)"
   ]
  },
  {
   "cell_type": "code",
   "execution_count": 4,
   "id": "b258c8e1",
   "metadata": {},
   "outputs": [
    {
     "data": {
      "text/html": [
       "<div>\n",
       "<style scoped>\n",
       "    .dataframe tbody tr th:only-of-type {\n",
       "        vertical-align: middle;\n",
       "    }\n",
       "\n",
       "    .dataframe tbody tr th {\n",
       "        vertical-align: top;\n",
       "    }\n",
       "\n",
       "    .dataframe thead th {\n",
       "        text-align: right;\n",
       "    }\n",
       "</style>\n",
       "<table border=\"1\" class=\"dataframe\">\n",
       "  <thead>\n",
       "    <tr style=\"text-align: right;\">\n",
       "      <th></th>\n",
       "      <th>N</th>\n",
       "      <th>P</th>\n",
       "      <th>K</th>\n",
       "      <th>temperature</th>\n",
       "      <th>humidity</th>\n",
       "      <th>ph</th>\n",
       "      <th>rainfall</th>\n",
       "      <th>label</th>\n",
       "    </tr>\n",
       "  </thead>\n",
       "  <tbody>\n",
       "    <tr>\n",
       "      <th>0</th>\n",
       "      <td>90</td>\n",
       "      <td>42</td>\n",
       "      <td>43</td>\n",
       "      <td>20.879744</td>\n",
       "      <td>82.002744</td>\n",
       "      <td>6.502985</td>\n",
       "      <td>202.935536</td>\n",
       "      <td>rice</td>\n",
       "    </tr>\n",
       "    <tr>\n",
       "      <th>1</th>\n",
       "      <td>85</td>\n",
       "      <td>58</td>\n",
       "      <td>41</td>\n",
       "      <td>21.770462</td>\n",
       "      <td>80.319644</td>\n",
       "      <td>7.038096</td>\n",
       "      <td>226.655537</td>\n",
       "      <td>rice</td>\n",
       "    </tr>\n",
       "    <tr>\n",
       "      <th>2</th>\n",
       "      <td>60</td>\n",
       "      <td>55</td>\n",
       "      <td>44</td>\n",
       "      <td>23.004459</td>\n",
       "      <td>82.320763</td>\n",
       "      <td>7.840207</td>\n",
       "      <td>263.964248</td>\n",
       "      <td>rice</td>\n",
       "    </tr>\n",
       "    <tr>\n",
       "      <th>3</th>\n",
       "      <td>74</td>\n",
       "      <td>35</td>\n",
       "      <td>40</td>\n",
       "      <td>26.491096</td>\n",
       "      <td>80.158363</td>\n",
       "      <td>6.980401</td>\n",
       "      <td>242.864034</td>\n",
       "      <td>rice</td>\n",
       "    </tr>\n",
       "    <tr>\n",
       "      <th>4</th>\n",
       "      <td>78</td>\n",
       "      <td>42</td>\n",
       "      <td>42</td>\n",
       "      <td>20.130175</td>\n",
       "      <td>81.604873</td>\n",
       "      <td>7.628473</td>\n",
       "      <td>262.717340</td>\n",
       "      <td>rice</td>\n",
       "    </tr>\n",
       "  </tbody>\n",
       "</table>\n",
       "</div>"
      ],
      "text/plain": [
       "    N   P   K  temperature   humidity        ph    rainfall label\n",
       "0  90  42  43    20.879744  82.002744  6.502985  202.935536  rice\n",
       "1  85  58  41    21.770462  80.319644  7.038096  226.655537  rice\n",
       "2  60  55  44    23.004459  82.320763  7.840207  263.964248  rice\n",
       "3  74  35  40    26.491096  80.158363  6.980401  242.864034  rice\n",
       "4  78  42  42    20.130175  81.604873  7.628473  262.717340  rice"
      ]
     },
     "execution_count": 4,
     "metadata": {},
     "output_type": "execute_result"
    }
   ],
   "source": [
    "# check the head of the data\n",
    "data.head()"
   ]
  },
  {
   "cell_type": "code",
   "execution_count": 5,
   "id": "717ea94b",
   "metadata": {},
   "outputs": [
    {
     "data": {
      "text/plain": [
       "N              0\n",
       "P              0\n",
       "K              0\n",
       "temperature    0\n",
       "humidity       0\n",
       "ph             0\n",
       "rainfall       0\n",
       "label          0\n",
       "dtype: int64"
      ]
     },
     "execution_count": 5,
     "metadata": {},
     "output_type": "execute_result"
    }
   ],
   "source": [
    "# check missing value\n",
    "data.isnull().sum()"
   ]
  },
  {
   "cell_type": "code",
   "execution_count": 6,
   "id": "aec6b366",
   "metadata": {},
   "outputs": [
    {
     "data": {
      "text/plain": [
       "rice           100\n",
       "maize          100\n",
       "jute           100\n",
       "cotton         100\n",
       "coconut        100\n",
       "papaya         100\n",
       "orange         100\n",
       "apple          100\n",
       "muskmelon      100\n",
       "watermelon     100\n",
       "grapes         100\n",
       "mango          100\n",
       "banana         100\n",
       "pomegranate    100\n",
       "lentil         100\n",
       "blackgram      100\n",
       "mungbean       100\n",
       "mothbeans      100\n",
       "pigeonpeas     100\n",
       "kidneybeans    100\n",
       "chickpea       100\n",
       "coffee         100\n",
       "Name: label, dtype: int64"
      ]
     },
     "execution_count": 6,
     "metadata": {},
     "output_type": "execute_result"
    }
   ],
   "source": [
    "# crops present in dataset\n",
    "data['label'].value_counts()"
   ]
  },
  {
   "cell_type": "code",
   "execution_count": 7,
   "id": "87fd0202",
   "metadata": {},
   "outputs": [
    {
     "name": "stdout",
     "output_type": "stream",
     "text": [
      "Average Ratio Of Nirtogen in the soil : 50.55\n",
      "Average Ratio Of Phosphorous in the soil : 53.36\n",
      "Average Temperature in celsius : 25.62\n",
      "Average Relative humidity in % : 71.48\n",
      "Average PH value of the soil : 6.47\n",
      "Average Rain fall in mm : 103.46\n"
     ]
    }
   ],
   "source": [
    "# Avg climate condition and soil requirement\n",
    "print(\"Average Ratio Of Nirtogen in the soil : {0:.2f}\".format(data['N'].mean()))\n",
    "print(\"Average Ratio Of Phosphorous in the soil : {0:.2f}\".format(data['P'].mean()))\n",
    "print(\"Average Temperature in celsius : {0:.2f}\".format(data['temperature'].mean()))\n",
    "print(\"Average Relative humidity in % : {0:.2f}\".format(data['humidity'].mean()))\n",
    "print(\"Average PH value of the soil : {0:.2f}\".format(data['ph'].mean()))\n",
    "print(\"Average Rain fall in mm : {0:.2f}\".format(data['rainfall'].mean()))"
   ]
  },
  {
   "cell_type": "code",
   "execution_count": 8,
   "id": "7740d2b9",
   "metadata": {},
   "outputs": [
    {
     "data": {
      "application/vnd.jupyter.widget-view+json": {
       "model_id": "a3e40a3c80774f22b4e805b8314fce83",
       "version_major": 2,
       "version_minor": 0
      },
      "text/plain": [
       "interactive(children=(Dropdown(description='crops', options=('rice', 'maize', 'jute', 'cotton', 'coconut', 'pa…"
      ]
     },
     "metadata": {},
     "output_type": "display_data"
    }
   ],
   "source": [
    "# summary statistics for each crops\n",
    "\n",
    "@interact\n",
    "def summary(crops = list(data['label'].value_counts().index)):\n",
    "    x = data[data['label'] == crops]\n",
    "    print('statistits for Nitrogen')\n",
    "    print('Minium Nitrogen Required :',x['N'].min())\n",
    "    print('Average Nitrogen Required :',x['N'].mean())\n",
    "    print('Maxium Nitrogen Required :',x['N'].max())\n",
    "    print('\\n')\n",
    "    print('statistits for Phosphorous')\n",
    "    print('Minium Phosphorous Required :',x['P'].min())\n",
    "    print('Average Phosphorous Required :',x['P'].mean())\n",
    "    print('Maxium Phosphorous Required :',x['P'].max())\n",
    "    print('\\n')\n",
    "    print('statistits for Potassium')\n",
    "    print('Minium Potassium Required :',x['K'].min())\n",
    "    print('Average Potassium Required :',x['K'].mean())\n",
    "    print('Maxium Potassium Required :',x['K'].max())\n",
    "    print('\\n')\n",
    "    print('statistits for temperature')\n",
    "    print('Minium temperature Required : {0:.2f}'.format(x['temperature'].min()))\n",
    "    print('Average temperature Required : {0:.2f}'.format(x['temperature'].mean()))\n",
    "    print('Maxium temperature Required : {0:.2f}'.format(x['temperature'].max()))\n",
    "    print('\\n')\n",
    "    print('statistits for Humidity')\n",
    "    print('Minium Humidity Required : {0:.2f}'.format(x['humidity'].min()))\n",
    "    print('Average Humidity Required : {0:.2f}'.format(x['humidity'].mean()))\n",
    "    print('Maxium Humidity Required : {0:.2f}'.format(x['humidity'].max()))\n",
    "    print('\\n')\n",
    "    print('statistits for PH')\n",
    "    print('Minium PH Required : {0:.2f}'.format(x['ph'].min()))\n",
    "    print('Average PH Required : {0:.2f}'.format(x['ph'].mean()))\n",
    "    print('Maxium PH Required : {0:.2f}'.format(x['ph'].max()))\n",
    "    print('\\n')\n",
    "    print('statistits for Rainfall')\n",
    "    print('Minium Rainfall Required : {0:.2f}'.format(x['rainfall'].min()))\n",
    "    print('Average Rainfall Required : {0:.2f}'.format(x['rainfall'].mean()))\n",
    "    print('Maxium Rainfall Required : {0:.2f}'.format(x['rainfall'].max()))\n",
    "    print('\\n')"
   ]
  },
  {
   "cell_type": "code",
   "execution_count": 9,
   "id": "21b7faab",
   "metadata": {},
   "outputs": [
    {
     "data": {
      "application/vnd.jupyter.widget-view+json": {
       "model_id": "ca81402aa1614512a703b15d3beea09e",
       "version_major": 2,
       "version_minor": 0
      },
      "text/plain": [
       "interactive(children=(Dropdown(description='conditions', options=('N', 'P', 'K', 'temperature', 'humidity', 'p…"
      ]
     },
     "metadata": {},
     "output_type": "display_data"
    }
   ],
   "source": [
    "# avarage req of each crops\n",
    "\n",
    "@interact\n",
    "def compare(conditions = ['N', 'P', 'K', 'temperature', 'humidity', 'ph', 'rainfall']):\n",
    "    print('Average value for',conditions,'is {0:.2f}'.format(data[conditions].mean()))\n",
    "    print('\\n')\n",
    "    print('Rice : {0:.2f}'.format(data[data['label'] == 'rice'][conditions].mean()))\n",
    "    print('maize : {0:.2f}'.format(data[data['label'] == 'maize'][conditions].mean()))\n",
    "    print('chickpea : {0:.2f}'.format(data[data['label'] == 'chickpea'][conditions].mean()))\n",
    "    print('kidneybeans : {0:.2f}'.format(data[data['label'] == 'kidneybeans'][conditions].mean()))\n",
    "    print('pigeonpeas : {0:.2f}'.format(data[data['label'] == 'pigeonpeas'][conditions].mean()))\n",
    "    print('mothbeans : {0:.2f}'.format(data[data['label'] == 'mothbeans'][conditions].mean()))\n",
    "    print('mungbean : {0:.2f}'.format(data[data['label'] == 'mungbean'][conditions].mean()))\n",
    "    print('blackgram : {0:.2f}'.format(data[data['label'] == 'blackgram'][conditions].mean()))\n",
    "    print('lentil : {0:.2f}'.format(data[data['label'] == 'lentil'][conditions].mean()))\n",
    "    print('pomegranate : {0:.2f}'.format(data[data['label'] == 'pomegranate'][conditions].mean()))\n",
    "    print('banana : {0:.2f}'.format(data[data['label'] == 'banana'][conditions].mean()))\n",
    "    print('mango : {0:.2f}'.format(data[data['label'] == 'mango'][conditions].mean()))\n",
    "    print('grapes : {0:.2f}'.format(data[data['label'] == 'grapes'][conditions].mean()))\n",
    "    print('watermelon : {0:.2f}'.format(data[data['label'] == 'watermelon'][conditions].mean()))\n",
    "    print('muskmelon : {0:.2f}'.format(data[data['label'] == 'muskmelon'][conditions].mean()))\n",
    "    print('apple : {0:.2f}'.format(data[data['label'] == 'apple'][conditions].mean()))\n",
    "    print('orange : {0:.2f}'.format(data[data['label'] == 'orange'][conditions].mean()))\n",
    "    print('papaya : {0:.2f}'.format(data[data['label'] == 'papaya'][conditions].mean()))\n",
    "    print('coconut : {0:.2f}'.format(data[data['label'] == 'coconut'][conditions].mean()))\n",
    "    print('cotton : {0:.2f}'.format(data[data['label'] == 'cotton'][conditions].mean()))\n",
    "    print('jute : {0:.2f}'.format(data[data['label'] == 'coconut'][conditions].mean()))\n",
    "    print('coffee : {0:.2f}'.format(data[data['label'] == 'coffee'][conditions].mean()))\n",
    "    \n",
    "    \n",
    "    \n",
    "    \n"
   ]
  },
  {
   "cell_type": "code",
   "execution_count": 10,
   "id": "fd8aa269",
   "metadata": {},
   "outputs": [
    {
     "data": {
      "application/vnd.jupyter.widget-view+json": {
       "model_id": "7f921319abf241798bac29116744f83a",
       "version_major": 2,
       "version_minor": 0
      },
      "text/plain": [
       "interactive(children=(Dropdown(description='conditions', options=('N', 'P', 'K', 'temperature', 'humidity', 'p…"
      ]
     },
     "metadata": {},
     "output_type": "display_data"
    }
   ],
   "source": [
    "@interact\n",
    "def compare(conditions = ['N', 'P', 'K', 'temperature', 'humidity', 'ph', 'rainfall']):\n",
    "    print(\"crops which require greater then average\", conditions ,'\\n')\n",
    "    print(data[data[conditions] > data[conditions].mean()]['label'].unique())\n",
    "    print('\\n')\n",
    "    print(\"crops which require less then average\", conditions ,'\\n')\n",
    "    print(data[data[conditions] < data[conditions].mean()]['label'].unique())\n",
    "    print('\\n')"
   ]
  },
  {
   "cell_type": "code",
   "execution_count": 11,
   "id": "23728b1e",
   "metadata": {},
   "outputs": [
    {
     "name": "stderr",
     "output_type": "stream",
     "text": [
      "c:\\python\\python38\\lib\\site-packages\\seaborn\\distributions.py:2619: FutureWarning: `distplot` is a deprecated function and will be removed in a future version. Please adapt your code to use either `displot` (a figure-level function with similar flexibility) or `histplot` (an axes-level function for histograms).\n",
      "  warnings.warn(msg, FutureWarning)\n",
      "c:\\python\\python38\\lib\\site-packages\\seaborn\\distributions.py:2619: FutureWarning: `distplot` is a deprecated function and will be removed in a future version. Please adapt your code to use either `displot` (a figure-level function with similar flexibility) or `histplot` (an axes-level function for histograms).\n",
      "  warnings.warn(msg, FutureWarning)\n",
      "c:\\python\\python38\\lib\\site-packages\\seaborn\\distributions.py:2619: FutureWarning: `distplot` is a deprecated function and will be removed in a future version. Please adapt your code to use either `displot` (a figure-level function with similar flexibility) or `histplot` (an axes-level function for histograms).\n",
      "  warnings.warn(msg, FutureWarning)\n",
      "c:\\python\\python38\\lib\\site-packages\\seaborn\\distributions.py:2619: FutureWarning: `distplot` is a deprecated function and will be removed in a future version. Please adapt your code to use either `displot` (a figure-level function with similar flexibility) or `histplot` (an axes-level function for histograms).\n",
      "  warnings.warn(msg, FutureWarning)\n",
      "c:\\python\\python38\\lib\\site-packages\\seaborn\\distributions.py:2619: FutureWarning: `distplot` is a deprecated function and will be removed in a future version. Please adapt your code to use either `displot` (a figure-level function with similar flexibility) or `histplot` (an axes-level function for histograms).\n",
      "  warnings.warn(msg, FutureWarning)\n",
      "c:\\python\\python38\\lib\\site-packages\\seaborn\\distributions.py:2619: FutureWarning: `distplot` is a deprecated function and will be removed in a future version. Please adapt your code to use either `displot` (a figure-level function with similar flexibility) or `histplot` (an axes-level function for histograms).\n",
      "  warnings.warn(msg, FutureWarning)\n",
      "c:\\python\\python38\\lib\\site-packages\\seaborn\\distributions.py:2619: FutureWarning: `distplot` is a deprecated function and will be removed in a future version. Please adapt your code to use either `displot` (a figure-level function with similar flexibility) or `histplot` (an axes-level function for histograms).\n",
      "  warnings.warn(msg, FutureWarning)\n"
     ]
    },
    {
     "data": {
      "image/png": "[encoded data removed]",
      "text/plain": [
       "<Figure size 1152x648 with 7 Axes>"
      ]
     },
     "metadata": {
      "needs_background": "light"
     },
     "output_type": "display_data"
    }
   ],
   "source": [
    "# graphycal reperesentation of data\n",
    "plt.figure(figsize=(16,9))\n",
    "plt.subplot(2,4,1)\n",
    "sns.distplot(data['N'],color='darkblue')\n",
    "plt.xlabel('Ratio of Nitrogen',fontsize=12)\n",
    "plt.grid()\n",
    "\n",
    "plt.subplot(2,4,2)\n",
    "sns.distplot(data['P'],color='blue')\n",
    "plt.xlabel('Phosphorous',fontsize=12)\n",
    "plt.grid()\n",
    "\n",
    "plt.subplot(2,4,3)\n",
    "sns.distplot(data['K'],color='red')\n",
    "plt.xlabel('potassium',fontsize=12)\n",
    "plt.grid()\n",
    "\n",
    "plt.subplot(2,4,4)\n",
    "sns.distplot(data['temperature'],color='darkred')\n",
    "plt.xlabel('temperature',fontsize=12)\n",
    "plt.grid()\n",
    "\n",
    "plt.subplot(2,4,5)\n",
    "sns.distplot(data['rainfall'],color='black')\n",
    "plt.xlabel('rainfall',fontsize=12)\n",
    "plt.grid()\n",
    "\n",
    "plt.subplot(2,4,6)\n",
    "sns.distplot(data['humidity'],color='darkgreen')\n",
    "plt.xlabel('humidity',fontsize=12)\n",
    "plt.grid()\n",
    "\n",
    "plt.subplot(2,4,7)\n",
    "sns.distplot(data['ph'],color='orange')\n",
    "plt.xlabel('ph',fontsize=12)\n",
    "plt.grid()\n",
    "\n",
    "plt.suptitle(\"distribution of agricultural conditions\", fontsize = 20)\n",
    "plt.show()\n",
    "\n",
    "\n",
    "\n"
   ]
  },
  {
   "cell_type": "code",
   "execution_count": 12,
   "id": "25f836a0",
   "metadata": {},
   "outputs": [
    {
     "name": "stdout",
     "output_type": "stream",
     "text": [
      "crops which requires very High Ratio of Nitrogen Content in Soil ['cotton']\n",
      "crops which requires very High Ratio of Phosphorous Content in Soil ['grapes' 'apple']\n",
      "crops which requires very High Ratio of Potassium Content in Soil ['grapes' 'apple']\n",
      "crops which requires very High rainfall ['rice' 'papaya' 'coconut']\n",
      "crops which requires very low Temperatuer ['grapes']\n",
      "crops which requires very High Temperature ['grapes' 'papaya']\n",
      "crops which requires very low Humidity ['chickpea' 'kidneybeans']\n",
      "crops which requires very low ph ['mothbeans']\n",
      "crops which requires very High ph ['mothbeans']\n"
     ]
    }
   ],
   "source": [
    "# some interesting facts\n",
    "print('crops which requires very High Ratio of Nitrogen Content in Soil',data[data['N'] > 120 ]['label'].unique())\n",
    "print('crops which requires very High Ratio of Phosphorous Content in Soil',data[data['P'] > 100 ]['label'].unique())\n",
    "print('crops which requires very High Ratio of Potassium Content in Soil',data[data['K'] > 200 ]['label'].unique())\n",
    "print('crops which requires very High rainfall',data[data['rainfall'] > 200 ]['label'].unique())\n",
    "print('crops which requires very low Temperatuer',data[data['temperature'] < 10 ]['label'].unique())\n",
    "print('crops which requires very High Temperature',data[data['temperature'] > 40 ]['label'].unique())\n",
    "print('crops which requires very low Humidity',data[data['humidity'] < 20 ]['label'].unique())\n",
    "print('crops which requires very low ph',data[data['ph'] < 4 ]['label'].unique())\n",
    "print('crops which requires very High ph',data[data['ph'] > 9 ]['label'].unique())\n",
    "\n",
    "\n"
   ]
  },
  {
   "cell_type": "code",
   "execution_count": 13,
   "id": "79b2f672",
   "metadata": {},
   "outputs": [
    {
     "name": "stdout",
     "output_type": "stream",
     "text": [
      "summer crops\n",
      "['pigeonpeas' 'mothbeans' 'blackgram' 'mango' 'grapes' 'orange' 'papaya']\n",
      "\n",
      "\n",
      "winter crops\n",
      "['maize' 'pigeonpeas' 'lentil' 'pomegranate' 'grapes' 'orange']\n",
      "\n",
      "\n",
      "Rainy crops\n",
      "['rice' 'papaya' 'coconut']\n",
      "\n",
      "\n"
     ]
    }
   ],
   "source": [
    "# seasion wise distubration\n",
    "print('summer crops')\n",
    "print(data[(data['temperature'] > 30) & (data['humidity'] > 50)]['label'].unique())\n",
    "print('\\n')\n",
    "print('winter crops')\n",
    "print(data[(data['temperature'] < 20) & (data['humidity'] > 30)]['label'].unique())\n",
    "print('\\n')\n",
    "print('Rainy crops')\n",
    "print(data[(data['rainfall'] > 200) & (data['humidity'] > 30)]['label'].unique())\n",
    "print('\\n')\n"
   ]
  },
  {
   "cell_type": "code",
   "execution_count": 14,
   "id": "533577a4",
   "metadata": {},
   "outputs": [
    {
     "name": "stdout",
     "output_type": "stream",
     "text": [
      "\t\tshape of x is  (2200, 7)\n",
      "    N   P   K  temperature   humidity        ph    rainfall\n",
      "0  90  42  43    20.879744  82.002744  6.502985  202.935536\n",
      "1  85  58  41    21.770462  80.319644  7.038096  226.655537\n",
      "2  60  55  44    23.004459  82.320763  7.840207  263.964248\n",
      "3  74  35  40    26.491096  80.158363  6.980401  242.864034\n",
      "4  78  42  42    20.130175  81.604873  7.628473  262.717340\n"
     ]
    }
   ],
   "source": [
    "from sklearn.cluster import KMeans\n",
    "# removing the labels column\n",
    "x = data.drop('label',axis=1)\n",
    "\n",
    "print(\"\\t\\tshape of x is \",x.shape)\n",
    "print(x.head())\n"
   ]
  },
  {
   "cell_type": "code",
   "execution_count": 15,
   "id": "97e8a407",
   "metadata": {},
   "outputs": [
    {
     "data": {
      "image/png": "[encoded data removed]",
      "text/plain": [
       "<Figure size 720x288 with 1 Axes>"
      ]
     },
     "metadata": {
      "needs_background": "light"
     },
     "output_type": "display_data"
    }
   ],
   "source": [
    "#determine the optimum number of cluster in the dataset\n",
    "plt.rcParams['figure.figsize']=(10,4)\n",
    "\n",
    "wcss = []\n",
    "for i in range(1,11):\n",
    "    km=KMeans(n_clusters = i,init = 'k-means++',max_iter = 300,n_init = 10,random_state = 0 )\n",
    "    km.fit(x)\n",
    "    wcss.append(km.inertia_)\n",
    "    \n",
    "    \n",
    "#plot the result\n",
    "plt.plot(range(1,11),wcss)\n",
    "plt.title('The Elbow Method',fontsize = 20 )\n",
    "plt.xlabel('No. of clusters')\n",
    "plt.ylabel('wcss')\n",
    "plt.show()"
   ]
  },
  {
   "cell_type": "code",
   "execution_count": 16,
   "id": "d6e57a4a",
   "metadata": {},
   "outputs": [
    {
     "name": "stdout",
     "output_type": "stream",
     "text": [
      "The Results after doing k mean clustering analysis\n",
      "crops in First cluster  ['maize' 'chickpea' 'kidneybeans' 'pigeonpeas' 'mothbeans' 'mungbean'\n",
      " 'blackgram' 'lentil' 'pomegranate' 'mango' 'orange' 'papaya' 'coconut']\n",
      "\n",
      "\n",
      "The Results after doing k mean clustering analysis\n",
      "crops in First cluster  ['maize' 'banana' 'watermelon' 'muskmelon' 'papaya' 'cotton' 'coffee']\n",
      "\n",
      "\n",
      "The Results after doing k mean clustering analysis\n",
      "crops in First cluster  ['grapes' 'apple']\n",
      "\n",
      "\n",
      "The Results after doing k mean clustering analysis\n",
      "crops in First cluster  ['rice' 'pigeonpeas' 'papaya' 'coconut' 'jute' 'coffee']\n",
      "\n",
      "\n"
     ]
    }
   ],
   "source": [
    "# impliminiting the k means algorithem to perform clustering analysis\n",
    "km = KMeans(n_clusters = 4,init = 'k-means++',max_iter = 300, n_init = 10, random_state = 0)\n",
    "y_means = km.fit_predict(x)\n",
    "#lets find out the results\n",
    "a = data['label']\n",
    "y_means = pd.DataFrame(y_means)\n",
    "z = pd.concat([y_means,a], axis = 1 )\n",
    "z = z.rename(columns = {0:'cluster'})\n",
    "\n",
    "#lets check the cluster of each crops\n",
    "print('The Results after doing k mean clustering analysis')\n",
    "print('crops in First cluster ',z[z['cluster'] == 0]['label'].unique())\n",
    "print('\\n')\n",
    "print('The Results after doing k mean clustering analysis')\n",
    "print('crops in First cluster ',z[z['cluster'] == 1]['label'].unique())\n",
    "print('\\n')\n",
    "print('The Results after doing k mean clustering analysis')\n",
    "print('crops in First cluster ',z[z['cluster'] == 2]['label'].unique())\n",
    "print('\\n')\n",
    "print('The Results after doing k mean clustering analysis')\n",
    "print('crops in First cluster ',z[z['cluster'] == 3]['label'].unique())\n",
    "print('\\n')"
   ]
  },
  {
   "cell_type": "code",
   "execution_count": 17,
   "id": "45d01c5f",
   "metadata": {},
   "outputs": [
    {
     "name": "stdout",
     "output_type": "stream",
     "text": [
      "shape of x  (2200, 7)\n",
      "shape of y  (2200,)\n"
     ]
    }
   ],
   "source": [
    "# data spilting for predictive modeling\n",
    "\n",
    "y = data['label']\n",
    "x = data.drop(['label'],axis = 1)\n",
    "print('shape of x ',x.shape)\n",
    "print('shape of y ',y.shape)"
   ]
  },
  {
   "cell_type": "code",
   "execution_count": 18,
   "id": "04e4c951",
   "metadata": {},
   "outputs": [
    {
     "name": "stdout",
     "output_type": "stream",
     "text": [
      "The shape of x_train  (1760, 7)\n",
      "The shape of x_test  (440, 7)\n",
      "The shape of y_train  (1760,)\n",
      "The shape of y_test  (440,)\n"
     ]
    }
   ],
   "source": [
    "# creating training and testing set for validation of results\n",
    "from sklearn.model_selection import train_test_split\n",
    "\n",
    "x_train, x_test, y_train, y_test = train_test_split(x,y, test_size = 0.2, random_state = 6 )\n",
    "print(\"The shape of x_train \",x_train.shape)\n",
    "print(\"The shape of x_test \",x_test.shape)\n",
    "print(\"The shape of y_train \",y_train.shape)\n",
    "print(\"The shape of y_test \",y_test.shape)\n",
    "\n"
   ]
  },
  {
   "cell_type": "code",
   "execution_count": 19,
   "id": "c4bb3859",
   "metadata": {},
   "outputs": [
    {
     "name": "stderr",
     "output_type": "stream",
     "text": [
      "c:\\python\\python38\\lib\\site-packages\\sklearn\\linear_model\\_logistic.py:814: ConvergenceWarning: lbfgs failed to converge (status=1):\n",
      "STOP: TOTAL NO. of ITERATIONS REACHED LIMIT.\n",
      "\n",
      "Increase the number of iterations (max_iter) or scale the data as shown in:\n",
      "    https://scikit-learn.org/stable/modules/preprocessing.html\n",
      "Please also refer to the documentation for alternative solver options:\n",
      "    https://scikit-learn.org/stable/modules/linear_model.html#logistic-regression\n",
      "  n_iter_i = _check_optimize_result(\n"
     ]
    }
   ],
   "source": [
    "# create a predictive model\n",
    "from sklearn.linear_model import LogisticRegression\n",
    "model = LogisticRegression()\n",
    "model.fit(x_train, y_train)\n",
    "y_pred = model.predict(x_test)"
   ]
  },
  {
   "cell_type": "code",
   "execution_count": 20,
   "id": "82e6ad80",
   "metadata": {},
   "outputs": [
    {
     "data": {
      "image/png": "[encoded data removed]",
      "text/plain": [
       "<Figure size 720x720 with 2 Axes>"
      ]
     },
     "metadata": {
      "needs_background": "light"
     },
     "output_type": "display_data"
    }
   ],
   "source": [
    "# to check the model performance\n",
    "from sklearn.metrics import confusion_matrix\n",
    "\n",
    "# to print the confusion matrix \n",
    "plt.rcParams['figure.figsize'] = (10,10)\n",
    "cm = confusion_matrix(y_test,y_pred)\n",
    "sns.heatmap(cm,annot = True, cmap = 'Wistia')\n",
    "plt.title(\"Comfusion Matrix For Logistic Regression\",fontsize = 15)\n",
    "plt.show()"
   ]
  },
  {
   "cell_type": "code",
   "execution_count": 21,
   "id": "b2197ca8",
   "metadata": {},
   "outputs": [
    {
     "name": "stdout",
     "output_type": "stream",
     "text": [
      "              precision    recall  f1-score   support\n",
      "\n",
      "       apple       1.00      1.00      1.00        27\n",
      "      banana       1.00      1.00      1.00        20\n",
      "   blackgram       0.85      1.00      0.92        23\n",
      "    chickpea       1.00      1.00      1.00        15\n",
      "     coconut       1.00      1.00      1.00        20\n",
      "      coffee       1.00      0.95      0.97        19\n",
      "      cotton       0.88      1.00      0.94        15\n",
      "      grapes       1.00      1.00      1.00        29\n",
      "        jute       0.77      0.87      0.82        23\n",
      " kidneybeans       1.00      1.00      1.00        19\n",
      "      lentil       1.00      0.90      0.95        29\n",
      "       maize       1.00      0.88      0.94        17\n",
      "       mango       1.00      0.95      0.97        20\n",
      "   mothbeans       1.00      0.93      0.96        14\n",
      "    mungbean       1.00      1.00      1.00        17\n",
      "   muskmelon       1.00      1.00      1.00        19\n",
      "      orange       1.00      1.00      1.00        24\n",
      "      papaya       1.00      1.00      1.00        17\n",
      "  pigeonpeas       1.00      1.00      1.00        17\n",
      " pomegranate       1.00      1.00      1.00        17\n",
      "        rice       0.85      0.81      0.83        21\n",
      "  watermelon       1.00      1.00      1.00        18\n",
      "\n",
      "    accuracy                           0.97       440\n",
      "   macro avg       0.97      0.97      0.97       440\n",
      "weighted avg       0.97      0.97      0.97       440\n",
      "\n"
     ]
    }
   ],
   "source": [
    "# To print the classification report\n",
    "from sklearn.metrics import classification_report\n",
    "cr = classification_report (y_test,y_pred)\n",
    "print(cr)"
   ]
  },
  {
   "cell_type": "code",
   "execution_count": 22,
   "id": "f6a7d22e",
   "metadata": {},
   "outputs": [
    {
     "data": {
      "text/html": [
       "<div>\n",
       "<style scoped>\n",
       "    .dataframe tbody tr th:only-of-type {\n",
       "        vertical-align: middle;\n",
       "    }\n",
       "\n",
       "    .dataframe tbody tr th {\n",
       "        vertical-align: top;\n",
       "    }\n",
       "\n",
       "    .dataframe thead th {\n",
       "        text-align: right;\n",
       "    }\n",
       "</style>\n",
       "<table border=\"1\" class=\"dataframe\">\n",
       "  <thead>\n",
       "    <tr style=\"text-align: right;\">\n",
       "      <th></th>\n",
       "      <th>N</th>\n",
       "      <th>P</th>\n",
       "      <th>K</th>\n",
       "      <th>temperature</th>\n",
       "      <th>humidity</th>\n",
       "      <th>ph</th>\n",
       "      <th>rainfall</th>\n",
       "      <th>label</th>\n",
       "    </tr>\n",
       "  </thead>\n",
       "  <tbody>\n",
       "    <tr>\n",
       "      <th>0</th>\n",
       "      <td>90</td>\n",
       "      <td>42</td>\n",
       "      <td>43</td>\n",
       "      <td>20.879744</td>\n",
       "      <td>82.002744</td>\n",
       "      <td>6.502985</td>\n",
       "      <td>202.935536</td>\n",
       "      <td>rice</td>\n",
       "    </tr>\n",
       "    <tr>\n",
       "      <th>1</th>\n",
       "      <td>85</td>\n",
       "      <td>58</td>\n",
       "      <td>41</td>\n",
       "      <td>21.770462</td>\n",
       "      <td>80.319644</td>\n",
       "      <td>7.038096</td>\n",
       "      <td>226.655537</td>\n",
       "      <td>rice</td>\n",
       "    </tr>\n",
       "    <tr>\n",
       "      <th>2</th>\n",
       "      <td>60</td>\n",
       "      <td>55</td>\n",
       "      <td>44</td>\n",
       "      <td>23.004459</td>\n",
       "      <td>82.320763</td>\n",
       "      <td>7.840207</td>\n",
       "      <td>263.964248</td>\n",
       "      <td>rice</td>\n",
       "    </tr>\n",
       "    <tr>\n",
       "      <th>3</th>\n",
       "      <td>74</td>\n",
       "      <td>35</td>\n",
       "      <td>40</td>\n",
       "      <td>26.491096</td>\n",
       "      <td>80.158363</td>\n",
       "      <td>6.980401</td>\n",
       "      <td>242.864034</td>\n",
       "      <td>rice</td>\n",
       "    </tr>\n",
       "    <tr>\n",
       "      <th>4</th>\n",
       "      <td>78</td>\n",
       "      <td>42</td>\n",
       "      <td>42</td>\n",
       "      <td>20.130175</td>\n",
       "      <td>81.604873</td>\n",
       "      <td>7.628473</td>\n",
       "      <td>262.717340</td>\n",
       "      <td>rice</td>\n",
       "    </tr>\n",
       "  </tbody>\n",
       "</table>\n",
       "</div>"
      ],
      "text/plain": [
       "    N   P   K  temperature   humidity        ph    rainfall label\n",
       "0  90  42  43    20.879744  82.002744  6.502985  202.935536  rice\n",
       "1  85  58  41    21.770462  80.319644  7.038096  226.655537  rice\n",
       "2  60  55  44    23.004459  82.320763  7.840207  263.964248  rice\n",
       "3  74  35  40    26.491096  80.158363  6.980401  242.864034  rice\n",
       "4  78  42  42    20.130175  81.604873  7.628473  262.717340  rice"
      ]
     },
     "execution_count": 22,
     "metadata": {},
     "output_type": "execute_result"
    }
   ],
   "source": [
    "data.head()"
   ]
  },
  {
   "cell_type": "code",
   "execution_count": 23,
   "id": "55574dfa",
   "metadata": {},
   "outputs": [
    {
     "name": "stdout",
     "output_type": "stream",
     "text": [
      "The Suggested crops for the given climatic condition is ['rice']\n"
     ]
    },
    {
     "name": "stderr",
     "output_type": "stream",
     "text": [
      "c:\\python\\python38\\lib\\site-packages\\sklearn\\base.py:441: UserWarning: X does not have valid feature names, but LogisticRegression was fitted with feature names\n",
      "  warnings.warn(\n"
     ]
    }
   ],
   "source": [
    "predict = model.predict(np.array([[90,40,40,20,80,7,200]]))\n",
    "print('The Suggested crops for the given climatic condition is',predict)"
   ]
  },
  {
   "cell_type": "code",
   "execution_count": null,
   "id": "3720b7e7",
   "metadata": {},
   "outputs": [],
   "source": []
  }
 ],
 "metadata": {
  "kernelspec": {
   "display_name": "Python 3 (ipykernel)",
   "language": "python",
   "name": "python3"
  },
  "language_info": {
   "codemirror_mode": {
    "name": "ipython",
    "version": 3
   },
   "file_extension": ".py",
   "mimetype": "text/x-python",
   "name": "python",
   "nbconvert_exporter": "python",
   "pygments_lexer": "ipython3",
   "version": "3.8.1"
  }
 },
 "nbformat": 4,
 "nbformat_minor": 5
}
